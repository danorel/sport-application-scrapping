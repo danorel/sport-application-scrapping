{
 "cells": [
  {
   "cell_type": "markdown",
   "id": "a517f67c-1d0f-4b05-8f4d-e1e0acb19d4d",
   "metadata": {},
   "source": [
    "### Data extraction"
   ]
  },
  {
   "cell_type": "code",
   "execution_count": 3,
   "id": "c7d92888-626d-45aa-8577-fb4c194958a4",
   "metadata": {},
   "outputs": [
    {
     "name": "stdout",
     "output_type": "stream",
     "text": [
      "\n",
      "\u001b[1m[\u001b[0m\u001b[34;49mnotice\u001b[0m\u001b[1;39;49m]\u001b[0m\u001b[39;49m A new release of pip is available: \u001b[0m\u001b[31;49m23.2.1\u001b[0m\u001b[39;49m -> \u001b[0m\u001b[32;49m23.3.1\u001b[0m\n",
      "\u001b[1m[\u001b[0m\u001b[34;49mnotice\u001b[0m\u001b[1;39;49m]\u001b[0m\u001b[39;49m To update, run: \u001b[0m\u001b[32;49mpython -m pip install --upgrade pip\u001b[0m\n"
     ]
    }
   ],
   "source": [
    "!pip install --quiet neo4j matplotlib pandas"
   ]
  },
  {
   "cell_type": "code",
   "execution_count": 59,
   "id": "33a7bb69-00e4-4251-a39a-26a85092038f",
   "metadata": {},
   "outputs": [],
   "source": [
    "import pandas as pd\n",
    "import numpy as np\n",
    "import matplotlib.pyplot as plt\n",
    "\n",
    "from neo4j import GraphDatabase"
   ]
  },
  {
   "cell_type": "code",
   "execution_count": 5,
   "id": "1702323d-300b-4247-ac0c-eab7aab27ca7",
   "metadata": {},
   "outputs": [],
   "source": [
    "neo4j_driver = GraphDatabase.driver(\n",
    "    \"neo4j://127.0.0.1:7687\", auth=(\"neo4j\", \"password\"))"
   ]
  },
  {
   "cell_type": "code",
   "execution_count": 6,
   "id": "d6f04bec-5bd7-46e8-8476-bd691fd0aa76",
   "metadata": {},
   "outputs": [],
   "source": [
    "session = neo4j_driver.session()"
   ]
  },
  {
   "cell_type": "code",
   "execution_count": 29,
   "id": "2a685598-7ee2-48af-b06a-ffc01d8662aa",
   "metadata": {},
   "outputs": [],
   "source": [
    "nodes = session.run(\n",
    "    \"MATCH (athlete:Athlete)-[:TRACKS]->(activity:Activity)-[:HAS_DATA_IN]->(activity_measurement:ActivityMeasurement)\" \\\n",
    "    \"RETURN ID(activity) as activity_id, athlete, activity_measurement\"\n",
    ")\n",
    "results = [record for record in nodes.data()]"
   ]
  },
  {
   "cell_type": "code",
   "execution_count": 42,
   "id": "10e1a888-aa3b-4a63-8301-3fa5730c5dbe",
   "metadata": {},
   "outputs": [],
   "source": [
    "merged_results = [\n",
    "    { \"username\": r['athlete']['name'], \"activity_id\": r[\"activity_id\"], **r['activity_measurement'] }\n",
    "    for r in results\n",
    "]"
   ]
  },
  {
   "cell_type": "code",
   "execution_count": 43,
   "id": "8e7f8d17-5672-40aa-97bc-9c20d941273c",
   "metadata": {},
   "outputs": [],
   "source": [
    "df = pd.DataFrame(merged_results)"
   ]
  },
  {
   "cell_type": "code",
   "execution_count": 44,
   "id": "bc9556d9-684c-4e04-a119-639e0bf6e3fe",
   "metadata": {},
   "outputs": [
    {
     "data": {
      "text/html": [
       "<div>\n",
       "<style scoped>\n",
       "    .dataframe tbody tr th:only-of-type {\n",
       "        vertical-align: middle;\n",
       "    }\n",
       "\n",
       "    .dataframe tbody tr th {\n",
       "        vertical-align: top;\n",
       "    }\n",
       "\n",
       "    .dataframe thead th {\n",
       "        text-align: right;\n",
       "    }\n",
       "</style>\n",
       "<table border=\"1\" class=\"dataframe\">\n",
       "  <thead>\n",
       "    <tr style=\"text-align: right;\">\n",
       "      <th></th>\n",
       "      <th>username</th>\n",
       "      <th>activity_id</th>\n",
       "      <th>elevation</th>\n",
       "      <th>latitude</th>\n",
       "      <th>ISOString</th>\n",
       "      <th>speed</th>\n",
       "      <th>longitude</th>\n",
       "    </tr>\n",
       "  </thead>\n",
       "  <tbody>\n",
       "    <tr>\n",
       "      <th>0</th>\n",
       "      <td>john86</td>\n",
       "      <td>566342</td>\n",
       "      <td>74.900000</td>\n",
       "      <td>54.120664</td>\n",
       "      <td>2023-10-30T15:17:43.000+00:00</td>\n",
       "      <td>27.612189</td>\n",
       "      <td>11.655172</td>\n",
       "    </tr>\n",
       "    <tr>\n",
       "      <th>1</th>\n",
       "      <td>john86</td>\n",
       "      <td>566342</td>\n",
       "      <td>48.666667</td>\n",
       "      <td>54.097767</td>\n",
       "      <td>2023-10-30T14:59:48.000+00:00</td>\n",
       "      <td>32.173811</td>\n",
       "      <td>11.633946</td>\n",
       "    </tr>\n",
       "    <tr>\n",
       "      <th>2</th>\n",
       "      <td>john86</td>\n",
       "      <td>566342</td>\n",
       "      <td>76.133333</td>\n",
       "      <td>54.119524</td>\n",
       "      <td>2023-10-30T15:18:19.000+00:00</td>\n",
       "      <td>26.093201</td>\n",
       "      <td>11.658840</td>\n",
       "    </tr>\n",
       "    <tr>\n",
       "      <th>3</th>\n",
       "      <td>john86</td>\n",
       "      <td>566342</td>\n",
       "      <td>42.841401</td>\n",
       "      <td>54.105186</td>\n",
       "      <td>2023-10-30T15:07:52.000+00:00</td>\n",
       "      <td>0.228123</td>\n",
       "      <td>11.608518</td>\n",
       "    </tr>\n",
       "    <tr>\n",
       "      <th>4</th>\n",
       "      <td>john86</td>\n",
       "      <td>566342</td>\n",
       "      <td>69.300000</td>\n",
       "      <td>54.122682</td>\n",
       "      <td>2023-10-30T15:16:36.000+00:00</td>\n",
       "      <td>24.903897</td>\n",
       "      <td>11.648678</td>\n",
       "    </tr>\n",
       "    <tr>\n",
       "      <th>...</th>\n",
       "      <td>...</td>\n",
       "      <td>...</td>\n",
       "      <td>...</td>\n",
       "      <td>...</td>\n",
       "      <td>...</td>\n",
       "      <td>...</td>\n",
       "      <td>...</td>\n",
       "    </tr>\n",
       "    <tr>\n",
       "      <th>1117083</th>\n",
       "      <td>GEOtemala</td>\n",
       "      <td>68899</td>\n",
       "      <td>1572.242750</td>\n",
       "      <td>14.649362</td>\n",
       "      <td>2023-11-11T14:05:06.000+00:00</td>\n",
       "      <td>0.499121</td>\n",
       "      <td>-91.229638</td>\n",
       "    </tr>\n",
       "    <tr>\n",
       "      <th>1117084</th>\n",
       "      <td>GEOtemala</td>\n",
       "      <td>68899</td>\n",
       "      <td>1572.613487</td>\n",
       "      <td>14.649369</td>\n",
       "      <td>2023-11-11T14:05:26.000+00:00</td>\n",
       "      <td>2.778248</td>\n",
       "      <td>-91.229638</td>\n",
       "    </tr>\n",
       "    <tr>\n",
       "      <th>1117085</th>\n",
       "      <td>GEOtemala</td>\n",
       "      <td>68899</td>\n",
       "      <td>1572.860010</td>\n",
       "      <td>14.649363</td>\n",
       "      <td>2023-11-11T14:05:03.000+00:00</td>\n",
       "      <td>0.189201</td>\n",
       "      <td>-91.229637</td>\n",
       "    </tr>\n",
       "    <tr>\n",
       "      <th>1117086</th>\n",
       "      <td>GEOtemala</td>\n",
       "      <td>68899</td>\n",
       "      <td>1574.155805</td>\n",
       "      <td>14.649346</td>\n",
       "      <td>2023-11-11T14:04:41.000+00:00</td>\n",
       "      <td>0.847098</td>\n",
       "      <td>-91.229616</td>\n",
       "    </tr>\n",
       "    <tr>\n",
       "      <th>1117087</th>\n",
       "      <td>GEOtemala</td>\n",
       "      <td>68899</td>\n",
       "      <td>1571.211075</td>\n",
       "      <td>14.649367</td>\n",
       "      <td>2023-11-11T14:05:46.000+00:00</td>\n",
       "      <td>2.199615</td>\n",
       "      <td>-91.229630</td>\n",
       "    </tr>\n",
       "  </tbody>\n",
       "</table>\n",
       "<p>1117088 rows × 7 columns</p>\n",
       "</div>"
      ],
      "text/plain": [
       "           username  activity_id    elevation   latitude  \\\n",
       "0           john86        566342    74.900000  54.120664   \n",
       "1           john86        566342    48.666667  54.097767   \n",
       "2           john86        566342    76.133333  54.119524   \n",
       "3           john86        566342    42.841401  54.105186   \n",
       "4           john86        566342    69.300000  54.122682   \n",
       "...             ...          ...          ...        ...   \n",
       "1117083  GEOtemala         68899  1572.242750  14.649362   \n",
       "1117084  GEOtemala         68899  1572.613487  14.649369   \n",
       "1117085  GEOtemala         68899  1572.860010  14.649363   \n",
       "1117086  GEOtemala         68899  1574.155805  14.649346   \n",
       "1117087  GEOtemala         68899  1571.211075  14.649367   \n",
       "\n",
       "                             ISOString      speed  longitude  \n",
       "0        2023-10-30T15:17:43.000+00:00  27.612189  11.655172  \n",
       "1        2023-10-30T14:59:48.000+00:00  32.173811  11.633946  \n",
       "2        2023-10-30T15:18:19.000+00:00  26.093201  11.658840  \n",
       "3        2023-10-30T15:07:52.000+00:00   0.228123  11.608518  \n",
       "4        2023-10-30T15:16:36.000+00:00  24.903897  11.648678  \n",
       "...                                ...        ...        ...  \n",
       "1117083  2023-11-11T14:05:06.000+00:00   0.499121 -91.229638  \n",
       "1117084  2023-11-11T14:05:26.000+00:00   2.778248 -91.229638  \n",
       "1117085  2023-11-11T14:05:03.000+00:00   0.189201 -91.229637  \n",
       "1117086  2023-11-11T14:04:41.000+00:00   0.847098 -91.229616  \n",
       "1117087  2023-11-11T14:05:46.000+00:00   2.199615 -91.229630  \n",
       "\n",
       "[1117088 rows x 7 columns]"
      ]
     },
     "execution_count": 44,
     "metadata": {},
     "output_type": "execute_result"
    }
   ],
   "source": [
    "df"
   ]
  },
  {
   "cell_type": "code",
   "execution_count": 69,
   "id": "a062eb2e-c0a7-422b-9f5b-7293da646b89",
   "metadata": {},
   "outputs": [],
   "source": [
    "unwrapped_df = df.groupby(by=[\"username\", \"activity_id\"]).agg(list).reset_index()"
   ]
  },
  {
   "cell_type": "code",
   "execution_count": 84,
   "id": "5f94855e-f81a-48f8-a165-f718499dfe5d",
   "metadata": {},
   "outputs": [
    {
     "data": {
      "text/html": [
       "<div>\n",
       "<style scoped>\n",
       "    .dataframe tbody tr th:only-of-type {\n",
       "        vertical-align: middle;\n",
       "    }\n",
       "\n",
       "    .dataframe tbody tr th {\n",
       "        vertical-align: top;\n",
       "    }\n",
       "\n",
       "    .dataframe thead th {\n",
       "        text-align: right;\n",
       "    }\n",
       "</style>\n",
       "<table border=\"1\" class=\"dataframe\">\n",
       "  <thead>\n",
       "    <tr style=\"text-align: right;\">\n",
       "      <th></th>\n",
       "      <th>username</th>\n",
       "      <th>activity_id</th>\n",
       "      <th>elevation</th>\n",
       "      <th>latitude</th>\n",
       "      <th>ISOString</th>\n",
       "      <th>speed</th>\n",
       "      <th>longitude</th>\n",
       "      <th>mean_speed</th>\n",
       "    </tr>\n",
       "  </thead>\n",
       "  <tbody>\n",
       "    <tr>\n",
       "      <th>0</th>\n",
       "      <td>APneunzehn74</td>\n",
       "      <td>47366</td>\n",
       "      <td>[316.85, 318.8, 316.6166666666667, 322.7666666...</td>\n",
       "      <td>[48.8269858, 48.82703, 48.825863616666666, 48....</td>\n",
       "      <td>[2023-11-14T15:35:49.000+00:00, 2023-11-14T15:...</td>\n",
       "      <td>[3.6373767435348388, 4.688001739717897, 4.9855...</td>\n",
       "      <td>[12.909876650000001, 12.910045, 12.91423138333...</td>\n",
       "      <td>4.058226</td>\n",
       "    </tr>\n",
       "    <tr>\n",
       "      <th>1</th>\n",
       "      <td>APneunzehn74</td>\n",
       "      <td>47561</td>\n",
       "      <td>[337.55, 343.31666666666666, 339.8, 344.483333...</td>\n",
       "      <td>[48.82525165, 48.82525388333333, 48.8251933, 4...</td>\n",
       "      <td>[2023-11-14T15:25:43.000+00:00, 2023-11-14T15:...</td>\n",
       "      <td>[1.8422706583239148, 0.6823143582615726, 5.554...</td>\n",
       "      <td>[12.914481649999999, 12.91440025, 12.9145, 12....</td>\n",
       "      <td>2.363112</td>\n",
       "    </tr>\n",
       "    <tr>\n",
       "      <th>2</th>\n",
       "      <td>APneunzehn74</td>\n",
       "      <td>47677</td>\n",
       "      <td>[357.06666666666666, 353.2, 337.01666666666665...</td>\n",
       "      <td>[48.82512113333333, 48.825184433333334, 48.825...</td>\n",
       "      <td>[2023-11-14T15:20:46.000+00:00, 2023-11-14T15:...</td>\n",
       "      <td>[4.398527321014304, 4.899491212164095, 1.90244...</td>\n",
       "      <td>[12.914077766666667, 12.914048900000001, 12.91...</td>\n",
       "      <td>3.733561</td>\n",
       "    </tr>\n",
       "  </tbody>\n",
       "</table>\n",
       "</div>"
      ],
      "text/plain": [
       "        username  activity_id  \\\n",
       "0  APneunzehn74         47366   \n",
       "1  APneunzehn74         47561   \n",
       "2  APneunzehn74         47677   \n",
       "\n",
       "                                           elevation  \\\n",
       "0  [316.85, 318.8, 316.6166666666667, 322.7666666...   \n",
       "1  [337.55, 343.31666666666666, 339.8, 344.483333...   \n",
       "2  [357.06666666666666, 353.2, 337.01666666666665...   \n",
       "\n",
       "                                            latitude  \\\n",
       "0  [48.8269858, 48.82703, 48.825863616666666, 48....   \n",
       "1  [48.82525165, 48.82525388333333, 48.8251933, 4...   \n",
       "2  [48.82512113333333, 48.825184433333334, 48.825...   \n",
       "\n",
       "                                           ISOString  \\\n",
       "0  [2023-11-14T15:35:49.000+00:00, 2023-11-14T15:...   \n",
       "1  [2023-11-14T15:25:43.000+00:00, 2023-11-14T15:...   \n",
       "2  [2023-11-14T15:20:46.000+00:00, 2023-11-14T15:...   \n",
       "\n",
       "                                               speed  \\\n",
       "0  [3.6373767435348388, 4.688001739717897, 4.9855...   \n",
       "1  [1.8422706583239148, 0.6823143582615726, 5.554...   \n",
       "2  [4.398527321014304, 4.899491212164095, 1.90244...   \n",
       "\n",
       "                                           longitude  mean_speed  \n",
       "0  [12.909876650000001, 12.910045, 12.91423138333...    4.058226  \n",
       "1  [12.914481649999999, 12.91440025, 12.9145, 12....    2.363112  \n",
       "2  [12.914077766666667, 12.914048900000001, 12.91...    3.733561  "
      ]
     },
     "execution_count": 84,
     "metadata": {},
     "output_type": "execute_result"
    }
   ],
   "source": [
    "unwrapped_df.head(n=3)"
   ]
  },
  {
   "cell_type": "code",
   "execution_count": 85,
   "id": "b7cb3b8e-57b9-4b8f-8f0f-05f5f0475e9e",
   "metadata": {},
   "outputs": [],
   "source": [
    "unwrapped_df['mean_speed'] = unwrapped_df['speed'].apply(np.nanmean)"
   ]
  },
  {
   "cell_type": "code",
   "execution_count": 86,
   "id": "595838a7-e3a0-4441-a9b0-f9405157aeb5",
   "metadata": {},
   "outputs": [
    {
     "data": {
      "text/html": [
       "<div>\n",
       "<style scoped>\n",
       "    .dataframe tbody tr th:only-of-type {\n",
       "        vertical-align: middle;\n",
       "    }\n",
       "\n",
       "    .dataframe tbody tr th {\n",
       "        vertical-align: top;\n",
       "    }\n",
       "\n",
       "    .dataframe thead th {\n",
       "        text-align: right;\n",
       "    }\n",
       "</style>\n",
       "<table border=\"1\" class=\"dataframe\">\n",
       "  <thead>\n",
       "    <tr style=\"text-align: right;\">\n",
       "      <th></th>\n",
       "      <th>username</th>\n",
       "      <th>activity_id</th>\n",
       "      <th>elevation</th>\n",
       "      <th>latitude</th>\n",
       "      <th>ISOString</th>\n",
       "      <th>speed</th>\n",
       "      <th>longitude</th>\n",
       "      <th>mean_speed</th>\n",
       "    </tr>\n",
       "  </thead>\n",
       "  <tbody>\n",
       "    <tr>\n",
       "      <th>0</th>\n",
       "      <td>APneunzehn74</td>\n",
       "      <td>47366</td>\n",
       "      <td>[316.85, 318.8, 316.6166666666667, 322.7666666...</td>\n",
       "      <td>[48.8269858, 48.82703, 48.825863616666666, 48....</td>\n",
       "      <td>[2023-11-14T15:35:49.000+00:00, 2023-11-14T15:...</td>\n",
       "      <td>[3.6373767435348388, 4.688001739717897, 4.9855...</td>\n",
       "      <td>[12.909876650000001, 12.910045, 12.91423138333...</td>\n",
       "      <td>4.058226</td>\n",
       "    </tr>\n",
       "    <tr>\n",
       "      <th>1</th>\n",
       "      <td>APneunzehn74</td>\n",
       "      <td>47561</td>\n",
       "      <td>[337.55, 343.31666666666666, 339.8, 344.483333...</td>\n",
       "      <td>[48.82525165, 48.82525388333333, 48.8251933, 4...</td>\n",
       "      <td>[2023-11-14T15:25:43.000+00:00, 2023-11-14T15:...</td>\n",
       "      <td>[1.8422706583239148, 0.6823143582615726, 5.554...</td>\n",
       "      <td>[12.914481649999999, 12.91440025, 12.9145, 12....</td>\n",
       "      <td>2.363112</td>\n",
       "    </tr>\n",
       "    <tr>\n",
       "      <th>2</th>\n",
       "      <td>APneunzehn74</td>\n",
       "      <td>47677</td>\n",
       "      <td>[357.06666666666666, 353.2, 337.01666666666665...</td>\n",
       "      <td>[48.82512113333333, 48.825184433333334, 48.825...</td>\n",
       "      <td>[2023-11-14T15:20:46.000+00:00, 2023-11-14T15:...</td>\n",
       "      <td>[4.398527321014304, 4.899491212164095, 1.90244...</td>\n",
       "      <td>[12.914077766666667, 12.914048900000001, 12.91...</td>\n",
       "      <td>3.733561</td>\n",
       "    </tr>\n",
       "  </tbody>\n",
       "</table>\n",
       "</div>"
      ],
      "text/plain": [
       "        username  activity_id  \\\n",
       "0  APneunzehn74         47366   \n",
       "1  APneunzehn74         47561   \n",
       "2  APneunzehn74         47677   \n",
       "\n",
       "                                           elevation  \\\n",
       "0  [316.85, 318.8, 316.6166666666667, 322.7666666...   \n",
       "1  [337.55, 343.31666666666666, 339.8, 344.483333...   \n",
       "2  [357.06666666666666, 353.2, 337.01666666666665...   \n",
       "\n",
       "                                            latitude  \\\n",
       "0  [48.8269858, 48.82703, 48.825863616666666, 48....   \n",
       "1  [48.82525165, 48.82525388333333, 48.8251933, 4...   \n",
       "2  [48.82512113333333, 48.825184433333334, 48.825...   \n",
       "\n",
       "                                           ISOString  \\\n",
       "0  [2023-11-14T15:35:49.000+00:00, 2023-11-14T15:...   \n",
       "1  [2023-11-14T15:25:43.000+00:00, 2023-11-14T15:...   \n",
       "2  [2023-11-14T15:20:46.000+00:00, 2023-11-14T15:...   \n",
       "\n",
       "                                               speed  \\\n",
       "0  [3.6373767435348388, 4.688001739717897, 4.9855...   \n",
       "1  [1.8422706583239148, 0.6823143582615726, 5.554...   \n",
       "2  [4.398527321014304, 4.899491212164095, 1.90244...   \n",
       "\n",
       "                                           longitude  mean_speed  \n",
       "0  [12.909876650000001, 12.910045, 12.91423138333...    4.058226  \n",
       "1  [12.914481649999999, 12.91440025, 12.9145, 12....    2.363112  \n",
       "2  [12.914077766666667, 12.914048900000001, 12.91...    3.733561  "
      ]
     },
     "execution_count": 86,
     "metadata": {},
     "output_type": "execute_result"
    }
   ],
   "source": [
    "unwrapped_df.head(n=3)"
   ]
  },
  {
   "cell_type": "markdown",
   "id": "8e98946a-5f72-42b8-bae2-02aa4be3a03b",
   "metadata": {},
   "source": [
    "### Labeling"
   ]
  },
  {
   "cell_type": "code",
   "execution_count": 89,
   "id": "ba09782e-16fc-4857-ac93-1d9d2347b3d1",
   "metadata": {},
   "outputs": [
    {
     "name": "stdout",
     "output_type": "stream",
     "text": [
      "\n",
      "\u001b[1m[\u001b[0m\u001b[34;49mnotice\u001b[0m\u001b[1;39;49m]\u001b[0m\u001b[39;49m A new release of pip is available: \u001b[0m\u001b[31;49m23.2.1\u001b[0m\u001b[39;49m -> \u001b[0m\u001b[32;49m23.3.1\u001b[0m\n",
      "\u001b[1m[\u001b[0m\u001b[34;49mnotice\u001b[0m\u001b[1;39;49m]\u001b[0m\u001b[39;49m To update, run: \u001b[0m\u001b[32;49mpython -m pip install --upgrade pip\u001b[0m\n"
     ]
    }
   ],
   "source": [
    "!pip install --quiet scikit-learn"
   ]
  },
  {
   "cell_type": "code",
   "execution_count": 137,
   "id": "3bead7e2-8446-454e-9459-4b83e1e5c71e",
   "metadata": {},
   "outputs": [],
   "source": [
    "from sklearn.cluster import KMeans"
   ]
  },
  {
   "cell_type": "code",
   "execution_count": 112,
   "id": "a71403d8-9403-4608-874d-105e453c30a5",
   "metadata": {},
   "outputs": [],
   "source": [
    "MIN_K_MEAN = 1\n",
    "MAX_K_MEAN = 20"
   ]
  },
  {
   "cell_type": "code",
   "execution_count": 166,
   "id": "3620ee15-62e1-4954-a4c3-2bb10dca3659",
   "metadata": {},
   "outputs": [],
   "source": [
    "X = unwrapped_df[['mean_speed']]"
   ]
  },
  {
   "cell_type": "code",
   "execution_count": 167,
   "id": "39498e1b-1d66-4366-8525-f586a73cf523",
   "metadata": {},
   "outputs": [
    {
     "data": {
      "image/png": "[encoded data removed]",
      "text/plain": [
       "<Figure size 640x480 with 1 Axes>"
      ]
     },
     "metadata": {},
     "output_type": "display_data"
    }
   ],
   "source": [
    "wcss = []\n",
    "for k in range(MIN_K_MEAN, MAX_K_MEAN):\n",
    "    km = KMeans(n_clusters =k, init=\"k-means++\", max_iter=300, n_init=10)\n",
    "    km.fit(X)\n",
    "    wcss.append(km.inertia_)\n",
    "\n",
    "plt.plot(range(MIN_K_MEAN, MAX_K_MEAN), wcss);\n",
    "plt.title(\"Elbow Method\")\n",
    "plt.xlabel(\"Number of Clusters\")\n",
    "plt.ylabel(\"WCSS\")\n",
    "plt.xticks(np.arange(MIN_K_MEAN, MAX_K_MEAN, 1))\n",
    "plt.show()"
   ]
  },
  {
   "cell_type": "code",
   "execution_count": 214,
   "id": "27c6374a-c380-4835-87d5-2451a36e7c8e",
   "metadata": {},
   "outputs": [],
   "source": [
    "CHOSEN_K_MEAN = 4\n",
    "\n",
    "km = KMeans(n_clusters=CHOSEN_K_MEAN, init=\"k-means++\", max_iter=1000, n_init=10)\n",
    "label = km.fit_predict(X)"
   ]
  },
  {
   "cell_type": "code",
   "execution_count": 246,
   "id": "0e6c8d7a-5c8e-4796-81aa-85c69308fd65",
   "metadata": {},
   "outputs": [
    {
     "data": {
      "image/png": "[encoded data removed]",
      "text/plain": [
       "<Figure size 640x480 with 1 Axes>"
      ]
     },
     "metadata": {},
     "output_type": "display_data"
    }
   ],
   "source": [
    "# Getting unique labels and centroids\n",
    " \n",
    "u_labels = np.unique(label)\n",
    "centroids = km.cluster_centers_\n",
    "\n",
    "# Plotting the results:\n",
    " \n",
    "for i in u_labels:\n",
    "    X_i = X[label == i]\n",
    "    plt.scatter(X_i, [i] * len(X_i), label = i)\n",
    "plt.scatter(centroids, u_labels, s = 20, color = 'black')\n",
    "plt.legend()\n",
    "plt.xlabel('Speed (km/h)')\n",
    "plt.ylabel('K Means')\n",
    "plt.yticks(np.arange(0, CHOSEN_K_MEAN, 1))\n",
    "plt.show()"
   ]
  },
  {
   "cell_type": "code",
   "execution_count": 218,
   "id": "17285eb7-2cd1-4894-beb2-96a87f100a35",
   "metadata": {},
   "outputs": [],
   "source": [
    "unwrapped_df['type'] = label"
   ]
  },
  {
   "cell_type": "code",
   "execution_count": 219,
   "id": "933228b1-b77b-4b04-af7a-e1182faa4c2e",
   "metadata": {},
   "outputs": [
    {
     "data": {
      "text/html": [
       "<div>\n",
       "<style scoped>\n",
       "    .dataframe tbody tr th:only-of-type {\n",
       "        vertical-align: middle;\n",
       "    }\n",
       "\n",
       "    .dataframe tbody tr th {\n",
       "        vertical-align: top;\n",
       "    }\n",
       "\n",
       "    .dataframe thead th {\n",
       "        text-align: right;\n",
       "    }\n",
       "</style>\n",
       "<table border=\"1\" class=\"dataframe\">\n",
       "  <thead>\n",
       "    <tr style=\"text-align: right;\">\n",
       "      <th></th>\n",
       "      <th>username</th>\n",
       "      <th>activity_id</th>\n",
       "      <th>elevation</th>\n",
       "      <th>latitude</th>\n",
       "      <th>ISOString</th>\n",
       "      <th>speed</th>\n",
       "      <th>longitude</th>\n",
       "      <th>mean_speed</th>\n",
       "      <th>type</th>\n",
       "    </tr>\n",
       "  </thead>\n",
       "  <tbody>\n",
       "    <tr>\n",
       "      <th>0</th>\n",
       "      <td>APneunzehn74</td>\n",
       "      <td>47366</td>\n",
       "      <td>[316.85, 318.8, 316.6166666666667, 322.7666666...</td>\n",
       "      <td>[48.8269858, 48.82703, 48.825863616666666, 48....</td>\n",
       "      <td>[2023-11-14T15:35:49.000+00:00, 2023-11-14T15:...</td>\n",
       "      <td>[3.6373767435348388, 4.688001739717897, 4.9855...</td>\n",
       "      <td>[12.909876650000001, 12.910045, 12.91423138333...</td>\n",
       "      <td>4.058226</td>\n",
       "      <td>1</td>\n",
       "    </tr>\n",
       "    <tr>\n",
       "      <th>1</th>\n",
       "      <td>APneunzehn74</td>\n",
       "      <td>47561</td>\n",
       "      <td>[337.55, 343.31666666666666, 339.8, 344.483333...</td>\n",
       "      <td>[48.82525165, 48.82525388333333, 48.8251933, 4...</td>\n",
       "      <td>[2023-11-14T15:25:43.000+00:00, 2023-11-14T15:...</td>\n",
       "      <td>[1.8422706583239148, 0.6823143582615726, 5.554...</td>\n",
       "      <td>[12.914481649999999, 12.91440025, 12.9145, 12....</td>\n",
       "      <td>2.363112</td>\n",
       "      <td>1</td>\n",
       "    </tr>\n",
       "    <tr>\n",
       "      <th>2</th>\n",
       "      <td>APneunzehn74</td>\n",
       "      <td>47677</td>\n",
       "      <td>[357.06666666666666, 353.2, 337.01666666666665...</td>\n",
       "      <td>[48.82512113333333, 48.825184433333334, 48.825...</td>\n",
       "      <td>[2023-11-14T15:20:46.000+00:00, 2023-11-14T15:...</td>\n",
       "      <td>[4.398527321014304, 4.899491212164095, 1.90244...</td>\n",
       "      <td>[12.914077766666667, 12.914048900000001, 12.91...</td>\n",
       "      <td>3.733561</td>\n",
       "      <td>1</td>\n",
       "    </tr>\n",
       "  </tbody>\n",
       "</table>\n",
       "</div>"
      ],
      "text/plain": [
       "        username  activity_id  \\\n",
       "0  APneunzehn74         47366   \n",
       "1  APneunzehn74         47561   \n",
       "2  APneunzehn74         47677   \n",
       "\n",
       "                                           elevation  \\\n",
       "0  [316.85, 318.8, 316.6166666666667, 322.7666666...   \n",
       "1  [337.55, 343.31666666666666, 339.8, 344.483333...   \n",
       "2  [357.06666666666666, 353.2, 337.01666666666665...   \n",
       "\n",
       "                                            latitude  \\\n",
       "0  [48.8269858, 48.82703, 48.825863616666666, 48....   \n",
       "1  [48.82525165, 48.82525388333333, 48.8251933, 4...   \n",
       "2  [48.82512113333333, 48.825184433333334, 48.825...   \n",
       "\n",
       "                                           ISOString  \\\n",
       "0  [2023-11-14T15:35:49.000+00:00, 2023-11-14T15:...   \n",
       "1  [2023-11-14T15:25:43.000+00:00, 2023-11-14T15:...   \n",
       "2  [2023-11-14T15:20:46.000+00:00, 2023-11-14T15:...   \n",
       "\n",
       "                                               speed  \\\n",
       "0  [3.6373767435348388, 4.688001739717897, 4.9855...   \n",
       "1  [1.8422706583239148, 0.6823143582615726, 5.554...   \n",
       "2  [4.398527321014304, 4.899491212164095, 1.90244...   \n",
       "\n",
       "                                           longitude  mean_speed  type  \n",
       "0  [12.909876650000001, 12.910045, 12.91423138333...    4.058226     1  \n",
       "1  [12.914481649999999, 12.91440025, 12.9145, 12....    2.363112     1  \n",
       "2  [12.914077766666667, 12.914048900000001, 12.91...    3.733561     1  "
      ]
     },
     "execution_count": 219,
     "metadata": {},
     "output_type": "execute_result"
    }
   ],
   "source": [
    "unwrapped_df.head(n=3)"
   ]
  },
  {
   "cell_type": "markdown",
   "id": "33d0c719-e0df-4fe9-8976-17558b3d8b19",
   "metadata": {},
   "source": [
    "### Rule extraction"
   ]
  },
  {
   "cell_type": "code",
   "execution_count": 231,
   "id": "ea49e35c-fc0c-4a9b-9b22-b2e8133553b8",
   "metadata": {},
   "outputs": [],
   "source": [
    "from sklearn.tree import DecisionTreeClassifier, export_text"
   ]
  },
  {
   "cell_type": "code",
   "execution_count": 232,
   "id": "990a9726-d1bb-431a-b8a2-e7d822430902",
   "metadata": {},
   "outputs": [
    {
     "data": {
      "text/html": [
       "<style>#sk-container-id-3 {color: black;}#sk-container-id-3 pre{padding: 0;}#sk-container-id-3 div.sk-toggleable {background-color: white;}#sk-container-id-3 label.sk-toggleable__label {cursor: pointer;display: block;width: 100%;margin-bottom: 0;padding: 0.3em;box-sizing: border-box;text-align: center;}#sk-container-id-3 label.sk-toggleable__label-arrow:before {content: \"▸\";float: left;margin-right: 0.25em;color: #696969;}#sk-container-id-3 label.sk-toggleable__label-arrow:hover:before {color: black;}#sk-container-id-3 div.sk-estimator:hover label.sk-toggleable__label-arrow:before {color: black;}#sk-container-id-3 div.sk-toggleable__content {max-height: 0;max-width: 0;overflow: hidden;text-align: left;background-color: #f0f8ff;}#sk-container-id-3 div.sk-toggleable__content pre {margin: 0.2em;color: black;border-radius: 0.25em;background-color: #f0f8ff;}#sk-container-id-3 input.sk-toggleable__control:checked~div.sk-toggleable__content {max-height: 200px;max-width: 100%;overflow: auto;}#sk-container-id-3 input.sk-toggleable__control:checked~label.sk-toggleable__label-arrow:before {content: \"▾\";}#sk-container-id-3 div.sk-estimator input.sk-toggleable__control:checked~label.sk-toggleable__label {background-color: #d4ebff;}#sk-container-id-3 div.sk-label input.sk-toggleable__control:checked~label.sk-toggleable__label {background-color: #d4ebff;}#sk-container-id-3 input.sk-hidden--visually {border: 0;clip: rect(1px 1px 1px 1px);clip: rect(1px, 1px, 1px, 1px);height: 1px;margin: -1px;overflow: hidden;padding: 0;position: absolute;width: 1px;}#sk-container-id-3 div.sk-estimator {font-family: monospace;background-color: #f0f8ff;border: 1px dotted black;border-radius: 0.25em;box-sizing: border-box;margin-bottom: 0.5em;}#sk-container-id-3 div.sk-estimator:hover {background-color: #d4ebff;}#sk-container-id-3 div.sk-parallel-item::after {content: \"\";width: 100%;border-bottom: 1px solid gray;flex-grow: 1;}#sk-container-id-3 div.sk-label:hover label.sk-toggleable__label {background-color: #d4ebff;}#sk-container-id-3 div.sk-serial::before {content: \"\";position: absolute;border-left: 1px solid gray;box-sizing: border-box;top: 0;bottom: 0;left: 50%;z-index: 0;}#sk-container-id-3 div.sk-serial {display: flex;flex-direction: column;align-items: center;background-color: white;padding-right: 0.2em;padding-left: 0.2em;position: relative;}#sk-container-id-3 div.sk-item {position: relative;z-index: 1;}#sk-container-id-3 div.sk-parallel {display: flex;align-items: stretch;justify-content: center;background-color: white;position: relative;}#sk-container-id-3 div.sk-item::before, #sk-container-id-3 div.sk-parallel-item::before {content: \"\";position: absolute;border-left: 1px solid gray;box-sizing: border-box;top: 0;bottom: 0;left: 50%;z-index: -1;}#sk-container-id-3 div.sk-parallel-item {display: flex;flex-direction: column;z-index: 1;position: relative;background-color: white;}#sk-container-id-3 div.sk-parallel-item:first-child::after {align-self: flex-end;width: 50%;}#sk-container-id-3 div.sk-parallel-item:last-child::after {align-self: flex-start;width: 50%;}#sk-container-id-3 div.sk-parallel-item:only-child::after {width: 0;}#sk-container-id-3 div.sk-dashed-wrapped {border: 1px dashed gray;margin: 0 0.4em 0.5em 0.4em;box-sizing: border-box;padding-bottom: 0.4em;background-color: white;}#sk-container-id-3 div.sk-label label {font-family: monospace;font-weight: bold;display: inline-block;line-height: 1.2em;}#sk-container-id-3 div.sk-label-container {text-align: center;}#sk-container-id-3 div.sk-container {/* jupyter's `normalize.less` sets `[hidden] { display: none; }` but bootstrap.min.css set `[hidden] { display: none !important; }` so we also need the `!important` here to be able to override the default hidden behavior on the sphinx rendered scikit-learn.org. See: https://github.com/scikit-learn/scikit-learn/issues/21755 */display: inline-block !important;position: relative;}#sk-container-id-3 div.sk-text-repr-fallback {display: none;}</style><div id=\"sk-container-id-3\" class=\"sk-top-container\"><div class=\"sk-text-repr-fallback\"><pre>DecisionTreeClassifier(max_depth=5)</pre><b>In a Jupyter environment, please rerun this cell to show the HTML representation or trust the notebook. <br />On GitHub, the HTML representation is unable to render, please try loading this page with nbviewer.org.</b></div><div class=\"sk-container\" hidden><div class=\"sk-item\"><div class=\"sk-estimator sk-toggleable\"><input class=\"sk-toggleable__control sk-hidden--visually\" id=\"sk-estimator-id-3\" type=\"checkbox\" checked><label for=\"sk-estimator-id-3\" class=\"sk-toggleable__label sk-toggleable__label-arrow\">DecisionTreeClassifier</label><div class=\"sk-toggleable__content\"><pre>DecisionTreeClassifier(max_depth=5)</pre></div></div></div></div></div>"
      ],
      "text/plain": [
       "DecisionTreeClassifier(max_depth=5)"
      ]
     },
     "execution_count": 232,
     "metadata": {},
     "output_type": "execute_result"
    }
   ],
   "source": [
    "X_train = unwrapped_df[['mean_speed']]\n",
    "y_train = unwrapped_df['type']\n",
    "\n",
    "dt = DecisionTreeClassifier(max_depth=5, min_samples_leaf=1)\n",
    "dt.fit(X_train, y_train)"
   ]
  },
  {
   "cell_type": "code",
   "execution_count": 233,
   "id": "5a8c04e4-f082-479e-a60f-5496ad90e3cd",
   "metadata": {},
   "outputs": [],
   "source": [
    "tree_rules = export_text(dt, feature_names=list(X_train.columns))"
   ]
  },
  {
   "cell_type": "code",
   "execution_count": 234,
   "id": "4be20659-9a6c-46e2-bcc6-c9219a8d8bb8",
   "metadata": {},
   "outputs": [
    {
     "name": "stdout",
     "output_type": "stream",
     "text": [
      "|--- mean_speed <= 7.20\n",
      "|   |--- class: 1\n",
      "|--- mean_speed >  7.20\n",
      "|   |--- mean_speed <= 15.31\n",
      "|   |   |--- class: 3\n",
      "|   |--- mean_speed >  15.31\n",
      "|   |   |--- mean_speed <= 39.26\n",
      "|   |   |   |--- class: 0\n",
      "|   |   |--- mean_speed >  39.26\n",
      "|   |   |   |--- class: 2\n",
      "\n"
     ]
    }
   ],
   "source": [
    "print(tree_rules)"
   ]
  },
  {
   "cell_type": "markdown",
   "id": "e1e29121-f1e8-4f21-b642-601ebea3355b",
   "metadata": {},
   "source": [
    "### Testing\n",
    "\n",
    "Hypothesis:\n",
    "\n",
    "Class 0: Cycling\n",
    "\n",
    "*Based on Google*: As the data shows, for the year 2018, the average cycling speed taken from the data of 287.5M rides, including a range of bike types and cycling disciplines, was 13.5 mph which equates to 21.72 km/h.\n",
    "\n",
    "Class 1: Walking\n",
    "\n",
    "*Based on Google*: According to the Centers for Disease Control and Prevention (CDC), the average walking speed for adults is between 4.02-6.44 km/h. \n",
    "\n",
    "Class 2: Transport\n",
    "\n",
    "*Based on Google*: It can range from 20 to 30 miles per hour (32 to 48 km/h). On highways or open roads, cars can typically travel at higher speeds. The average speed on highways is often around 55 to 75 miles per hour (88 to 120 km/h), depending on the speed limits and traffic conditions.\n",
    "\n",
    "Class 3: Running\n",
    "\n",
    "*Based on Google*: The average running speed for men is about 6.6 mph or 10.62 km/h. For women, the average human running speed is 5.7 mph or 9.17 km/h"
   ]
  },
  {
   "cell_type": "code",
   "execution_count": 237,
   "id": "3be5d11f-9d25-4e16-a13e-bc7f6e51b60e",
   "metadata": {},
   "outputs": [],
   "source": [
    "from sklearn.metrics import accuracy_score"
   ]
  },
  {
   "cell_type": "code",
   "execution_count": 239,
   "id": "25b3d644-cd87-4f96-82f4-1bc73c8dbb8d",
   "metadata": {},
   "outputs": [
    {
     "name": "stdout",
     "output_type": "stream",
     "text": [
      "Accuracy score (walking): 100.0%\n"
     ]
    },
    {
     "name": "stderr",
     "output_type": "stream",
     "text": [
      "/Users/danorel/.pyenv/versions/3.11.3/envs/sport-application-scrapping_3.11.3/lib/python3.11/site-packages/sklearn/base.py:465: UserWarning: X does not have valid feature names, but DecisionTreeClassifier was fitted with feature names\n",
      "  warnings.warn(\n"
     ]
    }
   ],
   "source": [
    "X_walking_test = np.array([[4.02], [6.44]])\n",
    "y_walking_test = np.array([1, 1])\n",
    "\n",
    "y_walking_pred = dt.predict(X_walking_test)\n",
    "\n",
    "print(f\"Accuracy score (walking): {accuracy_score(y_walking_test, y_walking_pred) * 100}%\")"
   ]
  },
  {
   "cell_type": "code",
   "execution_count": 240,
   "id": "c2bae96e-548c-474f-bc99-b352bd28916e",
   "metadata": {},
   "outputs": [
    {
     "name": "stdout",
     "output_type": "stream",
     "text": [
      "Accuracy score (cycling): 100.0%\n"
     ]
    },
    {
     "name": "stderr",
     "output_type": "stream",
     "text": [
      "/Users/danorel/.pyenv/versions/3.11.3/envs/sport-application-scrapping_3.11.3/lib/python3.11/site-packages/sklearn/base.py:465: UserWarning: X does not have valid feature names, but DecisionTreeClassifier was fitted with feature names\n",
      "  warnings.warn(\n"
     ]
    }
   ],
   "source": [
    "X_cycling_test = np.array([[21.72]])\n",
    "y_cycling_test = np.array([0])\n",
    "\n",
    "y_cycling_pred = dt.predict(X_cycling_test)\n",
    "\n",
    "print(f\"Accuracy score (cycling): {accuracy_score(y_cycling_test, y_cycling_pred) * 100}%\")"
   ]
  },
  {
   "cell_type": "code",
   "execution_count": 247,
   "id": "57cc37fa-e676-450c-b685-8d6b9658d9af",
   "metadata": {},
   "outputs": [
    {
     "name": "stdout",
     "output_type": "stream",
     "text": [
      "Accuracy score (running): 100.0%\n"
     ]
    },
    {
     "name": "stderr",
     "output_type": "stream",
     "text": [
      "/Users/danorel/.pyenv/versions/3.11.3/envs/sport-application-scrapping_3.11.3/lib/python3.11/site-packages/sklearn/base.py:465: UserWarning: X does not have valid feature names, but DecisionTreeClassifier was fitted with feature names\n",
      "  warnings.warn(\n"
     ]
    }
   ],
   "source": [
    "X_running_test = np.array([[9.17], [10.62]])\n",
    "y_running_test = np.array([3, 3])\n",
    "\n",
    "y_running_pred = dt.predict(X_running_test)\n",
    "\n",
    "print(f\"Accuracy score (running): {accuracy_score(y_running_test, y_running_pred) * 100}%\")"
   ]
  },
  {
   "cell_type": "code",
   "execution_count": 249,
   "id": "87b92fe7-5e3e-4ee6-b98e-58b04b8c44ce",
   "metadata": {},
   "outputs": [
    {
     "name": "stdout",
     "output_type": "stream",
     "text": [
      "Accuracy score (running): 100.0%\n"
     ]
    },
    {
     "name": "stderr",
     "output_type": "stream",
     "text": [
      "/Users/danorel/.pyenv/versions/3.11.3/envs/sport-application-scrapping_3.11.3/lib/python3.11/site-packages/sklearn/base.py:465: UserWarning: X does not have valid feature names, but DecisionTreeClassifier was fitted with feature names\n",
      "  warnings.warn(\n"
     ]
    }
   ],
   "source": [
    "X_transport_test = np.array([[48.0], [120.0]])\n",
    "y_transport_test = np.array([2, 2])\n",
    "\n",
    "y_transport_pred = dt.predict(X_transport_test)\n",
    "\n",
    "print(f\"Accuracy score (running): {accuracy_score(y_transport_test, y_transport_pred) * 100}%\")"
   ]
  }
 ],
 "metadata": {
  "kernelspec": {
   "display_name": "Python 3 (ipykernel)",
   "language": "python",
   "name": "python3"
  },
  "language_info": {
   "codemirror_mode": {
    "name": "ipython",
    "version": 3
   },
   "file_extension": ".py",
   "mimetype": "text/x-python",
   "name": "python",
   "nbconvert_exporter": "python",
   "pygments_lexer": "ipython3",
   "version": "3.11.3"
  }
 },
 "nbformat": 4,
 "nbformat_minor": 5
}
